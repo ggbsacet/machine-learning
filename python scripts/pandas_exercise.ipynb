{
  "nbformat": 4,
  "nbformat_minor": 0,
  "metadata": {
    "colab": {
      "name": "pandas-exercise.ipynb",
      "provenance": [],
      "collapsed_sections": []
    },
    "kernelspec": {
      "name": "python3",
      "display_name": "Python 3"
    },
    "language_info": {
      "name": "python"
    }
  },
  "cells": [
    {
      "cell_type": "markdown",
      "metadata": {
        "id": "cOQI05Pq121k"
      },
      "source": [
        "## Exercise Questions\n",
        "* importing the data from csv\n",
        "* importing the data from csv with custom header list (dob, photo_taken, full_path, gender, name, face_score, second_face_score)\n",
        "* describe the dataset\n",
        "* how to print the columns\n",
        "* Use some dataframe function like head(), info(), desc()\n",
        "* filter dataframe using list comprehension by photo taken between 1970 and 1980\n",
        "* create a dataframe where gender is not null\n",
        "* Merge, Append, Concat\n",
        " - create two dataframes named as \"first\" (id, dob, photo_taken) and \"second\" (id, gender, name)\n",
        " - create a \"third\" dataframe by mergining above two\n",
        " - create a \"fourth\" dataframe by concating first and second columnswise\n",
        " - create a \"five\" dataframe by appending the 100 records from both dataframes\n",
        "\n",
        "* Fetch filename from full_path by function or lambda function and store in new column called \"filename\". (Note, remove ' (quotes) from string)\n",
        "-  '01/nm0000001_rm124825600_1899-5-10_1968.jpg' ---> nm0000001_rm124825600_1899-5-10_1968.jpg\n",
        "\n",
        "**Use this link for data -** https://raw.githubusercontent.com/ggbsacet/machine-learning/master/datasets/pandas-exercise.csv"
      ]
    },
    {
      "cell_type": "code",
      "metadata": {
        "id": "kBQC4Ima_yWs"
      },
      "source": [
        "import pandas as pd"
      ],
      "execution_count": 21,
      "outputs": []
    },
    {
      "cell_type": "code",
      "metadata": {
        "id": "t3XMhClLMff9"
      },
      "source": [
        "data = pd.read_csv(\"https://raw.githubusercontent.com/ggbsacet/machine-learning/master/datasets/pandas-exercise.csv\")"
      ],
      "execution_count": 22,
      "outputs": []
    },
    {
      "cell_type": "code",
      "metadata": {
        "id": "ICJ3zhYcMiar"
      },
      "source": [
        "custom_data = pd.read_csv(\"https://raw.githubusercontent.com/ggbsacet/machine-learning/master/datasets/pandas-exercise.csv\",\n",
        "                          usecols=['dob', 'photo_taken', 'full_path', 'gender', 'name', 'face_score', 'second_face_score'])"
      ],
      "execution_count": 24,
      "outputs": []
    },
    {
      "cell_type": "code",
      "metadata": {
        "colab": {
          "base_uri": "https://localhost:8080/",
          "height": 297
        },
        "id": "zxY9NpdJMjR4",
        "outputId": "19151da8-f33b-460a-9935-4b6ed5d64e85"
      },
      "source": [
        "data.describe()"
      ],
      "execution_count": 26,
      "outputs": [
        {
          "output_type": "execute_result",
          "data": {
            "text/html": [
              "<div>\n",
              "<style scoped>\n",
              "    .dataframe tbody tr th:only-of-type {\n",
              "        vertical-align: middle;\n",
              "    }\n",
              "\n",
              "    .dataframe tbody tr th {\n",
              "        vertical-align: top;\n",
              "    }\n",
              "\n",
              "    .dataframe thead th {\n",
              "        text-align: right;\n",
              "    }\n",
              "</style>\n",
              "<table border=\"1\" class=\"dataframe\">\n",
              "  <thead>\n",
              "    <tr style=\"text-align: right;\">\n",
              "      <th></th>\n",
              "      <th>id</th>\n",
              "      <th>dob</th>\n",
              "      <th>photo_taken</th>\n",
              "      <th>gender</th>\n",
              "      <th>face_score</th>\n",
              "      <th>second_face_score</th>\n",
              "      <th>celeb_id</th>\n",
              "    </tr>\n",
              "  </thead>\n",
              "  <tbody>\n",
              "    <tr>\n",
              "      <th>count</th>\n",
              "      <td>10000.00000</td>\n",
              "      <td>10000.000000</td>\n",
              "      <td>10000.000000</td>\n",
              "      <td>9997.000000</td>\n",
              "      <td>10000.000000</td>\n",
              "      <td>5552.000000</td>\n",
              "      <td>10000.000000</td>\n",
              "    </tr>\n",
              "    <tr>\n",
              "      <th>mean</th>\n",
              "      <td>4999.50000</td>\n",
              "      <td>714613.637200</td>\n",
              "      <td>1999.375000</td>\n",
              "      <td>0.661999</td>\n",
              "      <td>3.203083</td>\n",
              "      <td>2.437146</td>\n",
              "      <td>11024.150600</td>\n",
              "    </tr>\n",
              "    <tr>\n",
              "      <th>std</th>\n",
              "      <td>2886.89568</td>\n",
              "      <td>5941.266765</td>\n",
              "      <td>13.845633</td>\n",
              "      <td>0.473053</td>\n",
              "      <td>1.174290</td>\n",
              "      <td>1.015429</td>\n",
              "      <td>5418.425735</td>\n",
              "    </tr>\n",
              "    <tr>\n",
              "      <th>min</th>\n",
              "      <td>0.00000</td>\n",
              "      <td>691751.000000</td>\n",
              "      <td>1961.000000</td>\n",
              "      <td>0.000000</td>\n",
              "      <td>0.731817</td>\n",
              "      <td>0.731509</td>\n",
              "      <td>213.000000</td>\n",
              "    </tr>\n",
              "    <tr>\n",
              "      <th>25%</th>\n",
              "      <td>2499.75000</td>\n",
              "      <td>713912.000000</td>\n",
              "      <td>1995.000000</td>\n",
              "      <td>0.000000</td>\n",
              "      <td>2.336957</td>\n",
              "      <td>1.618010</td>\n",
              "      <td>6778.000000</td>\n",
              "    </tr>\n",
              "    <tr>\n",
              "      <th>50%</th>\n",
              "      <td>4999.50000</td>\n",
              "      <td>716686.000000</td>\n",
              "      <td>2004.000000</td>\n",
              "      <td>1.000000</td>\n",
              "      <td>3.212905</td>\n",
              "      <td>2.376602</td>\n",
              "      <td>10939.000000</td>\n",
              "    </tr>\n",
              "    <tr>\n",
              "      <th>75%</th>\n",
              "      <td>7499.25000</td>\n",
              "      <td>717544.000000</td>\n",
              "      <td>2009.000000</td>\n",
              "      <td>1.000000</td>\n",
              "      <td>4.074884</td>\n",
              "      <td>3.147927</td>\n",
              "      <td>15548.000000</td>\n",
              "    </tr>\n",
              "    <tr>\n",
              "      <th>max</th>\n",
              "      <td>9999.00000</td>\n",
              "      <td>721407.000000</td>\n",
              "      <td>2015.000000</td>\n",
              "      <td>1.000000</td>\n",
              "      <td>6.634150</td>\n",
              "      <td>5.852816</td>\n",
              "      <td>20096.000000</td>\n",
              "    </tr>\n",
              "  </tbody>\n",
              "</table>\n",
              "</div>"
            ],
            "text/plain": [
              "                id            dob  ...  second_face_score      celeb_id\n",
              "count  10000.00000   10000.000000  ...        5552.000000  10000.000000\n",
              "mean    4999.50000  714613.637200  ...           2.437146  11024.150600\n",
              "std     2886.89568    5941.266765  ...           1.015429   5418.425735\n",
              "min        0.00000  691751.000000  ...           0.731509    213.000000\n",
              "25%     2499.75000  713912.000000  ...           1.618010   6778.000000\n",
              "50%     4999.50000  716686.000000  ...           2.376602  10939.000000\n",
              "75%     7499.25000  717544.000000  ...           3.147927  15548.000000\n",
              "max     9999.00000  721407.000000  ...           5.852816  20096.000000\n",
              "\n",
              "[8 rows x 7 columns]"
            ]
          },
          "metadata": {},
          "execution_count": 26
        }
      ]
    },
    {
      "cell_type": "code",
      "metadata": {
        "colab": {
          "base_uri": "https://localhost:8080/"
        },
        "id": "NEIrqdF2M43U",
        "outputId": "089d6c0f-99f1-45d2-e0c5-e6bc65f3f45b"
      },
      "source": [
        "# Print the colums\n",
        "data.columns"
      ],
      "execution_count": 28,
      "outputs": [
        {
          "output_type": "execute_result",
          "data": {
            "text/plain": [
              "Index(['id', 'dob', 'photo_taken', 'full_path', 'gender', 'name',\n",
              "       'face_location', 'face_score', 'second_face_score', 'celeb_names',\n",
              "       'celeb_id'],\n",
              "      dtype='object')"
            ]
          },
          "metadata": {},
          "execution_count": 28
        }
      ]
    },
    {
      "cell_type": "code",
      "metadata": {
        "colab": {
          "base_uri": "https://localhost:8080/",
          "height": 359
        },
        "id": "_GOtufjNNEvj",
        "outputId": "b3778ac9-29ce-4af5-cbe7-b546a722b20d"
      },
      "source": [
        "data.head(10)"
      ],
      "execution_count": 29,
      "outputs": [
        {
          "output_type": "execute_result",
          "data": {
            "text/html": [
              "<div>\n",
              "<style scoped>\n",
              "    .dataframe tbody tr th:only-of-type {\n",
              "        vertical-align: middle;\n",
              "    }\n",
              "\n",
              "    .dataframe tbody tr th {\n",
              "        vertical-align: top;\n",
              "    }\n",
              "\n",
              "    .dataframe thead th {\n",
              "        text-align: right;\n",
              "    }\n",
              "</style>\n",
              "<table border=\"1\" class=\"dataframe\">\n",
              "  <thead>\n",
              "    <tr style=\"text-align: right;\">\n",
              "      <th></th>\n",
              "      <th>id</th>\n",
              "      <th>dob</th>\n",
              "      <th>photo_taken</th>\n",
              "      <th>full_path</th>\n",
              "      <th>gender</th>\n",
              "      <th>name</th>\n",
              "      <th>face_location</th>\n",
              "      <th>face_score</th>\n",
              "      <th>second_face_score</th>\n",
              "      <th>celeb_names</th>\n",
              "      <th>celeb_id</th>\n",
              "    </tr>\n",
              "  </thead>\n",
              "  <tbody>\n",
              "    <tr>\n",
              "      <th>0</th>\n",
              "      <td>0</td>\n",
              "      <td>693726</td>\n",
              "      <td>1968</td>\n",
              "      <td>'01/nm0000001_rm124825600_1899-5-10_1968.jpg'</td>\n",
              "      <td>1.0</td>\n",
              "      <td>'Fred Astaire'</td>\n",
              "      <td>1072.926  161.838 1214.784  303.696</td>\n",
              "      <td>1.459693</td>\n",
              "      <td>1.118973</td>\n",
              "      <td>\"'Lee' George Quinones\"</td>\n",
              "      <td>6488</td>\n",
              "    </tr>\n",
              "    <tr>\n",
              "      <th>1</th>\n",
              "      <td>1</td>\n",
              "      <td>693726</td>\n",
              "      <td>1970</td>\n",
              "      <td>'01/nm0000001_rm3343756032_1899-5-10_1970.jpg'</td>\n",
              "      <td>1.0</td>\n",
              "      <td>'Fred Astaire'</td>\n",
              "      <td>477.184 100.352 622.592 245.76</td>\n",
              "      <td>2.543198</td>\n",
              "      <td>1.852008</td>\n",
              "      <td>\"'Weird Al' Yankovic\"</td>\n",
              "      <td>6488</td>\n",
              "    </tr>\n",
              "    <tr>\n",
              "      <th>2</th>\n",
              "      <td>2</td>\n",
              "      <td>693726</td>\n",
              "      <td>1968</td>\n",
              "      <td>'01/nm0000001_rm577153792_1899-5-10_1968.jpg'</td>\n",
              "      <td>1.0</td>\n",
              "      <td>'Fred Astaire'</td>\n",
              "      <td>114.96964309 114.96964309 451.68657236 451.686...</td>\n",
              "      <td>3.455579</td>\n",
              "      <td>2.985660</td>\n",
              "      <td>'2 Chainz'</td>\n",
              "      <td>6488</td>\n",
              "    </tr>\n",
              "    <tr>\n",
              "      <th>3</th>\n",
              "      <td>3</td>\n",
              "      <td>693726</td>\n",
              "      <td>1968</td>\n",
              "      <td>'01/nm0000001_rm946909184_1899-5-10_1968.jpg'</td>\n",
              "      <td>1.0</td>\n",
              "      <td>'Fred Astaire'</td>\n",
              "      <td>622.88550564 424.21750384 844.33900767 645.671...</td>\n",
              "      <td>1.872117</td>\n",
              "      <td>NaN</td>\n",
              "      <td>'50 Cent'</td>\n",
              "      <td>6488</td>\n",
              "    </tr>\n",
              "    <tr>\n",
              "      <th>4</th>\n",
              "      <td>4</td>\n",
              "      <td>693726</td>\n",
              "      <td>1968</td>\n",
              "      <td>'01/nm0000001_rm980463616_1899-5-10_1968.jpg'</td>\n",
              "      <td>1.0</td>\n",
              "      <td>'Fred Astaire'</td>\n",
              "      <td>1013.85900236  233.88204221 1201.5861278   421...</td>\n",
              "      <td>1.158766</td>\n",
              "      <td>NaN</td>\n",
              "      <td>'A Martinez'</td>\n",
              "      <td>6488</td>\n",
              "    </tr>\n",
              "    <tr>\n",
              "      <th>5</th>\n",
              "      <td>5</td>\n",
              "      <td>702986</td>\n",
              "      <td>1991</td>\n",
              "      <td>'02/nm0000002_rm1075631616_1924-9-16_1991.jpg'</td>\n",
              "      <td>0.0</td>\n",
              "      <td>'Lauren Bacall'</td>\n",
              "      <td>686.67682059  458.46721373 1198.10043604  969...</td>\n",
              "      <td>3.490563</td>\n",
              "      <td>1.345335</td>\n",
              "      <td>'A.D. Miles'</td>\n",
              "      <td>11516</td>\n",
              "    </tr>\n",
              "    <tr>\n",
              "      <th>6</th>\n",
              "      <td>6</td>\n",
              "      <td>702986</td>\n",
              "      <td>2004</td>\n",
              "      <td>'02/nm0000002_rm1346607872_1924-9-16_2004.jpg'</td>\n",
              "      <td>0.0</td>\n",
              "      <td>'Lauren Bacall'</td>\n",
              "      <td>78.23569407  52.33512938 194.25423516 168.353...</td>\n",
              "      <td>3.479189</td>\n",
              "      <td>NaN</td>\n",
              "      <td>'A.J. Buckley'</td>\n",
              "      <td>11516</td>\n",
              "    </tr>\n",
              "    <tr>\n",
              "      <th>7</th>\n",
              "      <td>7</td>\n",
              "      <td>702986</td>\n",
              "      <td>2004</td>\n",
              "      <td>'02/nm0000002_rm1363385088_1924-9-16_2004.jpg'</td>\n",
              "      <td>0.0</td>\n",
              "      <td>'Lauren Bacall'</td>\n",
              "      <td>64.30867104  64.30867104 207.26768087 207.267...</td>\n",
              "      <td>3.870171</td>\n",
              "      <td>NaN</td>\n",
              "      <td>'A.J. Cook'</td>\n",
              "      <td>11516</td>\n",
              "    </tr>\n",
              "    <tr>\n",
              "      <th>8</th>\n",
              "      <td>8</td>\n",
              "      <td>702986</td>\n",
              "      <td>1991</td>\n",
              "      <td>'02/nm0000002_rm1411175936_1924-9-16_1991.jpg'</td>\n",
              "      <td>0.0</td>\n",
              "      <td>'Lauren Bacall'</td>\n",
              "      <td>212.76723692 1055.64418461  526.79809231 1357...</td>\n",
              "      <td>3.786499</td>\n",
              "      <td>3.629704</td>\n",
              "      <td>'A.J. Johnson'</td>\n",
              "      <td>11516</td>\n",
              "    </tr>\n",
              "    <tr>\n",
              "      <th>9</th>\n",
              "      <td>9</td>\n",
              "      <td>702986</td>\n",
              "      <td>2004</td>\n",
              "      <td>'02/nm0000002_rm1447271168_1924-9-16_2004.jpg'</td>\n",
              "      <td>0.0</td>\n",
              "      <td>'Lauren Bacall'</td>\n",
              "      <td>242.176  49.664 278.528  86.016</td>\n",
              "      <td>3.472944</td>\n",
              "      <td>2.945133</td>\n",
              "      <td>'A.J. Langer'</td>\n",
              "      <td>11516</td>\n",
              "    </tr>\n",
              "  </tbody>\n",
              "</table>\n",
              "</div>"
            ],
            "text/plain": [
              "   id     dob  ...              celeb_names celeb_id\n",
              "0   0  693726  ...  \"'Lee' George Quinones\"     6488\n",
              "1   1  693726  ...    \"'Weird Al' Yankovic\"     6488\n",
              "2   2  693726  ...               '2 Chainz'     6488\n",
              "3   3  693726  ...                '50 Cent'     6488\n",
              "4   4  693726  ...             'A Martinez'     6488\n",
              "5   5  702986  ...             'A.D. Miles'    11516\n",
              "6   6  702986  ...           'A.J. Buckley'    11516\n",
              "7   7  702986  ...              'A.J. Cook'    11516\n",
              "8   8  702986  ...           'A.J. Johnson'    11516\n",
              "9   9  702986  ...            'A.J. Langer'    11516\n",
              "\n",
              "[10 rows x 11 columns]"
            ]
          },
          "metadata": {},
          "execution_count": 29
        }
      ]
    },
    {
      "cell_type": "code",
      "metadata": {
        "colab": {
          "base_uri": "https://localhost:8080/"
        },
        "id": "az4z92XFNJ5r",
        "outputId": "8993b001-8503-48f5-817b-db9a862eb049"
      },
      "source": [
        "data.info()"
      ],
      "execution_count": 30,
      "outputs": [
        {
          "output_type": "stream",
          "name": "stdout",
          "text": [
            "<class 'pandas.core.frame.DataFrame'>\n",
            "RangeIndex: 10000 entries, 0 to 9999\n",
            "Data columns (total 11 columns):\n",
            " #   Column             Non-Null Count  Dtype  \n",
            "---  ------             --------------  -----  \n",
            " 0   id                 10000 non-null  int64  \n",
            " 1   dob                10000 non-null  int64  \n",
            " 2   photo_taken        10000 non-null  int64  \n",
            " 3   full_path          10000 non-null  object \n",
            " 4   gender             9997 non-null   float64\n",
            " 5   name               10000 non-null  object \n",
            " 6   face_location      10000 non-null  object \n",
            " 7   face_score         10000 non-null  float64\n",
            " 8   second_face_score  5552 non-null   float64\n",
            " 9   celeb_names        10000 non-null  object \n",
            " 10  celeb_id           10000 non-null  int64  \n",
            "dtypes: float64(3), int64(4), object(4)\n",
            "memory usage: 859.5+ KB\n"
          ]
        }
      ]
    },
    {
      "cell_type": "code",
      "metadata": {
        "colab": {
          "base_uri": "https://localhost:8080/"
        },
        "id": "51BFNPaENLLe",
        "outputId": "6b488806-9c4f-4e4e-9762-c48a4faad0a4"
      },
      "source": [
        "photo = data[(data[\"photo_taken\"] > 1970) & (data[\"photo_taken\"] < 1980)]\n",
        "photo.shape"
      ],
      "execution_count": 34,
      "outputs": [
        {
          "output_type": "execute_result",
          "data": {
            "text/plain": [
              "(315, 11)"
            ]
          },
          "metadata": {},
          "execution_count": 34
        }
      ]
    },
    {
      "cell_type": "code",
      "metadata": {
        "id": "ItRRYp-gNaq4"
      },
      "source": [
        "gender = data[data[\"gender\"].isna() == False]"
      ],
      "execution_count": 35,
      "outputs": []
    },
    {
      "cell_type": "code",
      "metadata": {
        "colab": {
          "base_uri": "https://localhost:8080/"
        },
        "id": "EHaGhr-HN_34",
        "outputId": "a031320d-f7f0-4892-92b9-b1345deac173"
      },
      "source": [
        "gender.shape"
      ],
      "execution_count": 36,
      "outputs": [
        {
          "output_type": "execute_result",
          "data": {
            "text/plain": [
              "(9997, 11)"
            ]
          },
          "metadata": {},
          "execution_count": 36
        }
      ]
    },
    {
      "cell_type": "code",
      "metadata": {
        "id": "JZVr6zCBOR7V"
      },
      "source": [
        "first = data[[\"id\", \"dob\", \"photo_taken\"]]\n",
        "second = data[[\"id\", \"gender\", \"name\"]]"
      ],
      "execution_count": 38,
      "outputs": []
    },
    {
      "cell_type": "code",
      "metadata": {
        "colab": {
          "base_uri": "https://localhost:8080/"
        },
        "id": "QKnFSfsuOvKB",
        "outputId": "e8ae83a3-bdcd-4563-f895-7363ebee6dab"
      },
      "source": [
        "first.shape, second.shape"
      ],
      "execution_count": 39,
      "outputs": [
        {
          "output_type": "execute_result",
          "data": {
            "text/plain": [
              "((10000, 3), (10000, 3))"
            ]
          },
          "metadata": {},
          "execution_count": 39
        }
      ]
    },
    {
      "cell_type": "code",
      "metadata": {
        "id": "DzmRjYVBO-8U"
      },
      "source": [
        "third = second.merge(first, on=['id'])"
      ],
      "execution_count": 40,
      "outputs": []
    },
    {
      "cell_type": "code",
      "metadata": {
        "colab": {
          "base_uri": "https://localhost:8080/"
        },
        "id": "NBsNsDNjPN3V",
        "outputId": "758c3530-c92e-4f32-eaa7-aa6012b789f0"
      },
      "source": [
        "third.shape"
      ],
      "execution_count": 41,
      "outputs": [
        {
          "output_type": "execute_result",
          "data": {
            "text/plain": [
              "(10000, 5)"
            ]
          },
          "metadata": {},
          "execution_count": 41
        }
      ]
    },
    {
      "cell_type": "code",
      "metadata": {
        "id": "XhXKxLecPPb-"
      },
      "source": [
        "fourth = pd.concat([first, second], axis=1)"
      ],
      "execution_count": 42,
      "outputs": []
    },
    {
      "cell_type": "code",
      "metadata": {
        "colab": {
          "base_uri": "https://localhost:8080/"
        },
        "id": "jYT_MA6SPqU0",
        "outputId": "ac5088f8-961d-4c32-df99-faa74550df27"
      },
      "source": [
        "fourth.shape"
      ],
      "execution_count": 43,
      "outputs": [
        {
          "output_type": "execute_result",
          "data": {
            "text/plain": [
              "(10000, 6)"
            ]
          },
          "metadata": {},
          "execution_count": 43
        }
      ]
    },
    {
      "cell_type": "code",
      "metadata": {
        "id": "DKlh7YaaPrlP"
      },
      "source": [
        "five = first.head(100).append(second.head(100))"
      ],
      "execution_count": 46,
      "outputs": []
    },
    {
      "cell_type": "code",
      "metadata": {
        "colab": {
          "base_uri": "https://localhost:8080/"
        },
        "id": "DifB9tGLP5vF",
        "outputId": "21893813-be36-4409-f932-947fbe1c4a03"
      },
      "source": [
        "five.shape"
      ],
      "execution_count": 47,
      "outputs": [
        {
          "output_type": "execute_result",
          "data": {
            "text/plain": [
              "(200, 5)"
            ]
          },
          "metadata": {},
          "execution_count": 47
        }
      ]
    },
    {
      "cell_type": "code",
      "metadata": {
        "colab": {
          "base_uri": "https://localhost:8080/",
          "height": 204
        },
        "id": "s8z2PCnPP_DN",
        "outputId": "5bf92c4a-8983-4cdd-a7dd-a425886829bb"
      },
      "source": [
        "five.head()"
      ],
      "execution_count": 49,
      "outputs": [
        {
          "output_type": "execute_result",
          "data": {
            "text/html": [
              "<div>\n",
              "<style scoped>\n",
              "    .dataframe tbody tr th:only-of-type {\n",
              "        vertical-align: middle;\n",
              "    }\n",
              "\n",
              "    .dataframe tbody tr th {\n",
              "        vertical-align: top;\n",
              "    }\n",
              "\n",
              "    .dataframe thead th {\n",
              "        text-align: right;\n",
              "    }\n",
              "</style>\n",
              "<table border=\"1\" class=\"dataframe\">\n",
              "  <thead>\n",
              "    <tr style=\"text-align: right;\">\n",
              "      <th></th>\n",
              "      <th>id</th>\n",
              "      <th>dob</th>\n",
              "      <th>photo_taken</th>\n",
              "      <th>gender</th>\n",
              "      <th>name</th>\n",
              "    </tr>\n",
              "  </thead>\n",
              "  <tbody>\n",
              "    <tr>\n",
              "      <th>0</th>\n",
              "      <td>0</td>\n",
              "      <td>693726.0</td>\n",
              "      <td>1968.0</td>\n",
              "      <td>NaN</td>\n",
              "      <td>NaN</td>\n",
              "    </tr>\n",
              "    <tr>\n",
              "      <th>1</th>\n",
              "      <td>1</td>\n",
              "      <td>693726.0</td>\n",
              "      <td>1970.0</td>\n",
              "      <td>NaN</td>\n",
              "      <td>NaN</td>\n",
              "    </tr>\n",
              "    <tr>\n",
              "      <th>2</th>\n",
              "      <td>2</td>\n",
              "      <td>693726.0</td>\n",
              "      <td>1968.0</td>\n",
              "      <td>NaN</td>\n",
              "      <td>NaN</td>\n",
              "    </tr>\n",
              "    <tr>\n",
              "      <th>3</th>\n",
              "      <td>3</td>\n",
              "      <td>693726.0</td>\n",
              "      <td>1968.0</td>\n",
              "      <td>NaN</td>\n",
              "      <td>NaN</td>\n",
              "    </tr>\n",
              "    <tr>\n",
              "      <th>4</th>\n",
              "      <td>4</td>\n",
              "      <td>693726.0</td>\n",
              "      <td>1968.0</td>\n",
              "      <td>NaN</td>\n",
              "      <td>NaN</td>\n",
              "    </tr>\n",
              "  </tbody>\n",
              "</table>\n",
              "</div>"
            ],
            "text/plain": [
              "   id       dob  photo_taken  gender name\n",
              "0   0  693726.0       1968.0     NaN  NaN\n",
              "1   1  693726.0       1970.0     NaN  NaN\n",
              "2   2  693726.0       1968.0     NaN  NaN\n",
              "3   3  693726.0       1968.0     NaN  NaN\n",
              "4   4  693726.0       1968.0     NaN  NaN"
            ]
          },
          "metadata": {},
          "execution_count": 49
        }
      ]
    },
    {
      "cell_type": "code",
      "metadata": {
        "colab": {
          "base_uri": "https://localhost:8080/",
          "height": 204
        },
        "id": "gKgB_JTyQBTw",
        "outputId": "d3d161d5-340e-4e03-d000-de9ff03af91c"
      },
      "source": [
        "five.tail()"
      ],
      "execution_count": 50,
      "outputs": [
        {
          "output_type": "execute_result",
          "data": {
            "text/html": [
              "<div>\n",
              "<style scoped>\n",
              "    .dataframe tbody tr th:only-of-type {\n",
              "        vertical-align: middle;\n",
              "    }\n",
              "\n",
              "    .dataframe tbody tr th {\n",
              "        vertical-align: top;\n",
              "    }\n",
              "\n",
              "    .dataframe thead th {\n",
              "        text-align: right;\n",
              "    }\n",
              "</style>\n",
              "<table border=\"1\" class=\"dataframe\">\n",
              "  <thead>\n",
              "    <tr style=\"text-align: right;\">\n",
              "      <th></th>\n",
              "      <th>id</th>\n",
              "      <th>dob</th>\n",
              "      <th>photo_taken</th>\n",
              "      <th>gender</th>\n",
              "      <th>name</th>\n",
              "    </tr>\n",
              "  </thead>\n",
              "  <tbody>\n",
              "    <tr>\n",
              "      <th>95</th>\n",
              "      <td>95</td>\n",
              "      <td>NaN</td>\n",
              "      <td>NaN</td>\n",
              "      <td>1.0</td>\n",
              "      <td>'Marlon Brando'</td>\n",
              "    </tr>\n",
              "    <tr>\n",
              "      <th>96</th>\n",
              "      <td>96</td>\n",
              "      <td>NaN</td>\n",
              "      <td>NaN</td>\n",
              "      <td>1.0</td>\n",
              "      <td>'Marlon Brando'</td>\n",
              "    </tr>\n",
              "    <tr>\n",
              "      <th>97</th>\n",
              "      <td>97</td>\n",
              "      <td>NaN</td>\n",
              "      <td>NaN</td>\n",
              "      <td>1.0</td>\n",
              "      <td>'Marlon Brando'</td>\n",
              "    </tr>\n",
              "    <tr>\n",
              "      <th>98</th>\n",
              "      <td>98</td>\n",
              "      <td>NaN</td>\n",
              "      <td>NaN</td>\n",
              "      <td>1.0</td>\n",
              "      <td>'Marlon Brando'</td>\n",
              "    </tr>\n",
              "    <tr>\n",
              "      <th>99</th>\n",
              "      <td>99</td>\n",
              "      <td>NaN</td>\n",
              "      <td>NaN</td>\n",
              "      <td>1.0</td>\n",
              "      <td>'Marlon Brando'</td>\n",
              "    </tr>\n",
              "  </tbody>\n",
              "</table>\n",
              "</div>"
            ],
            "text/plain": [
              "    id  dob  photo_taken  gender             name\n",
              "95  95  NaN          NaN     1.0  'Marlon Brando'\n",
              "96  96  NaN          NaN     1.0  'Marlon Brando'\n",
              "97  97  NaN          NaN     1.0  'Marlon Brando'\n",
              "98  98  NaN          NaN     1.0  'Marlon Brando'\n",
              "99  99  NaN          NaN     1.0  'Marlon Brando'"
            ]
          },
          "metadata": {},
          "execution_count": 50
        }
      ]
    },
    {
      "cell_type": "code",
      "metadata": {
        "colab": {
          "base_uri": "https://localhost:8080/",
          "height": 204
        },
        "id": "pVdcyK4-QFAK",
        "outputId": "0092a71b-4241-421b-b892-f58b2585bcc2"
      },
      "source": [
        "data[[\"id\", \"photo_taken\", \"full_path\"]].head()"
      ],
      "execution_count": 52,
      "outputs": [
        {
          "output_type": "execute_result",
          "data": {
            "text/html": [
              "<div>\n",
              "<style scoped>\n",
              "    .dataframe tbody tr th:only-of-type {\n",
              "        vertical-align: middle;\n",
              "    }\n",
              "\n",
              "    .dataframe tbody tr th {\n",
              "        vertical-align: top;\n",
              "    }\n",
              "\n",
              "    .dataframe thead th {\n",
              "        text-align: right;\n",
              "    }\n",
              "</style>\n",
              "<table border=\"1\" class=\"dataframe\">\n",
              "  <thead>\n",
              "    <tr style=\"text-align: right;\">\n",
              "      <th></th>\n",
              "      <th>id</th>\n",
              "      <th>photo_taken</th>\n",
              "      <th>full_path</th>\n",
              "    </tr>\n",
              "  </thead>\n",
              "  <tbody>\n",
              "    <tr>\n",
              "      <th>0</th>\n",
              "      <td>0</td>\n",
              "      <td>1968</td>\n",
              "      <td>'01/nm0000001_rm124825600_1899-5-10_1968.jpg'</td>\n",
              "    </tr>\n",
              "    <tr>\n",
              "      <th>1</th>\n",
              "      <td>1</td>\n",
              "      <td>1970</td>\n",
              "      <td>'01/nm0000001_rm3343756032_1899-5-10_1970.jpg'</td>\n",
              "    </tr>\n",
              "    <tr>\n",
              "      <th>2</th>\n",
              "      <td>2</td>\n",
              "      <td>1968</td>\n",
              "      <td>'01/nm0000001_rm577153792_1899-5-10_1968.jpg'</td>\n",
              "    </tr>\n",
              "    <tr>\n",
              "      <th>3</th>\n",
              "      <td>3</td>\n",
              "      <td>1968</td>\n",
              "      <td>'01/nm0000001_rm946909184_1899-5-10_1968.jpg'</td>\n",
              "    </tr>\n",
              "    <tr>\n",
              "      <th>4</th>\n",
              "      <td>4</td>\n",
              "      <td>1968</td>\n",
              "      <td>'01/nm0000001_rm980463616_1899-5-10_1968.jpg'</td>\n",
              "    </tr>\n",
              "  </tbody>\n",
              "</table>\n",
              "</div>"
            ],
            "text/plain": [
              "   id  photo_taken                                       full_path\n",
              "0   0         1968   '01/nm0000001_rm124825600_1899-5-10_1968.jpg'\n",
              "1   1         1970  '01/nm0000001_rm3343756032_1899-5-10_1970.jpg'\n",
              "2   2         1968   '01/nm0000001_rm577153792_1899-5-10_1968.jpg'\n",
              "3   3         1968   '01/nm0000001_rm946909184_1899-5-10_1968.jpg'\n",
              "4   4         1968   '01/nm0000001_rm980463616_1899-5-10_1968.jpg'"
            ]
          },
          "metadata": {},
          "execution_count": 52
        }
      ]
    },
    {
      "cell_type": "code",
      "metadata": {
        "id": "pWVywVaoQKVl"
      },
      "source": [
        "data[\"filename\"] = data[\"full_path\"].apply(lambda path : path.replace(\"'\", \"\").split('/')[1])"
      ],
      "execution_count": 56,
      "outputs": []
    },
    {
      "cell_type": "code",
      "metadata": {
        "colab": {
          "base_uri": "https://localhost:8080/",
          "height": 204
        },
        "id": "7rD4gG0TQnaV",
        "outputId": "ffe3858b-9839-424e-c504-fa830e5f32fe"
      },
      "source": [
        "data[[\"id\", \"photo_taken\", \"full_path\", \"filename\"]].head()"
      ],
      "execution_count": 57,
      "outputs": [
        {
          "output_type": "execute_result",
          "data": {
            "text/html": [
              "<div>\n",
              "<style scoped>\n",
              "    .dataframe tbody tr th:only-of-type {\n",
              "        vertical-align: middle;\n",
              "    }\n",
              "\n",
              "    .dataframe tbody tr th {\n",
              "        vertical-align: top;\n",
              "    }\n",
              "\n",
              "    .dataframe thead th {\n",
              "        text-align: right;\n",
              "    }\n",
              "</style>\n",
              "<table border=\"1\" class=\"dataframe\">\n",
              "  <thead>\n",
              "    <tr style=\"text-align: right;\">\n",
              "      <th></th>\n",
              "      <th>id</th>\n",
              "      <th>photo_taken</th>\n",
              "      <th>full_path</th>\n",
              "      <th>filename</th>\n",
              "    </tr>\n",
              "  </thead>\n",
              "  <tbody>\n",
              "    <tr>\n",
              "      <th>0</th>\n",
              "      <td>0</td>\n",
              "      <td>1968</td>\n",
              "      <td>'01/nm0000001_rm124825600_1899-5-10_1968.jpg'</td>\n",
              "      <td>nm0000001_rm124825600_1899-5-10_1968.jpg</td>\n",
              "    </tr>\n",
              "    <tr>\n",
              "      <th>1</th>\n",
              "      <td>1</td>\n",
              "      <td>1970</td>\n",
              "      <td>'01/nm0000001_rm3343756032_1899-5-10_1970.jpg'</td>\n",
              "      <td>nm0000001_rm3343756032_1899-5-10_1970.jpg</td>\n",
              "    </tr>\n",
              "    <tr>\n",
              "      <th>2</th>\n",
              "      <td>2</td>\n",
              "      <td>1968</td>\n",
              "      <td>'01/nm0000001_rm577153792_1899-5-10_1968.jpg'</td>\n",
              "      <td>nm0000001_rm577153792_1899-5-10_1968.jpg</td>\n",
              "    </tr>\n",
              "    <tr>\n",
              "      <th>3</th>\n",
              "      <td>3</td>\n",
              "      <td>1968</td>\n",
              "      <td>'01/nm0000001_rm946909184_1899-5-10_1968.jpg'</td>\n",
              "      <td>nm0000001_rm946909184_1899-5-10_1968.jpg</td>\n",
              "    </tr>\n",
              "    <tr>\n",
              "      <th>4</th>\n",
              "      <td>4</td>\n",
              "      <td>1968</td>\n",
              "      <td>'01/nm0000001_rm980463616_1899-5-10_1968.jpg'</td>\n",
              "      <td>nm0000001_rm980463616_1899-5-10_1968.jpg</td>\n",
              "    </tr>\n",
              "  </tbody>\n",
              "</table>\n",
              "</div>"
            ],
            "text/plain": [
              "   id  ...                                   filename\n",
              "0   0  ...   nm0000001_rm124825600_1899-5-10_1968.jpg\n",
              "1   1  ...  nm0000001_rm3343756032_1899-5-10_1970.jpg\n",
              "2   2  ...   nm0000001_rm577153792_1899-5-10_1968.jpg\n",
              "3   3  ...   nm0000001_rm946909184_1899-5-10_1968.jpg\n",
              "4   4  ...   nm0000001_rm980463616_1899-5-10_1968.jpg\n",
              "\n",
              "[5 rows x 4 columns]"
            ]
          },
          "metadata": {},
          "execution_count": 57
        }
      ]
    },
    {
      "cell_type": "code",
      "metadata": {
        "colab": {
          "base_uri": "https://localhost:8080/"
        },
        "id": "RIQjl8gWQwnE",
        "outputId": "c3c18a69-ec19-4a01-f79f-300639ec4d6f"
      },
      "source": [
        "data[\"full_path\"].apply(lambda path : path.replace(\"'\", \"\").split('/'))[0]"
      ],
      "execution_count": 59,
      "outputs": [
        {
          "output_type": "execute_result",
          "data": {
            "text/plain": [
              "['01', 'nm0000001_rm124825600_1899-5-10_1968.jpg']"
            ]
          },
          "metadata": {},
          "execution_count": 59
        }
      ]
    },
    {
      "cell_type": "code",
      "metadata": {
        "colab": {
          "base_uri": "https://localhost:8080/"
        },
        "id": "lvcIY3WuR_xU",
        "outputId": "49cdc138-5ff1-46b6-a962-099e1fbb2dc0"
      },
      "source": [
        "s = \"a,b,c,d,e,f\"\n",
        "# s = ['a', 'b' ,'c' ,'d', 'e', 'f']\n",
        "\n",
        "ss = s.split(\",\")\n",
        "\n",
        "print(ss[3])"
      ],
      "execution_count": 67,
      "outputs": [
        {
          "output_type": "stream",
          "name": "stdout",
          "text": [
            "d\n"
          ]
        }
      ]
    },
    {
      "cell_type": "code",
      "metadata": {
        "id": "QeQ6FRv2SeNy"
      },
      "source": [
        ""
      ],
      "execution_count": null,
      "outputs": []
    }
  ]
}