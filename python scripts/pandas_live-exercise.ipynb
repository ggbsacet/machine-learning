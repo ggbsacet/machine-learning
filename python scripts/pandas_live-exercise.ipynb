{
  "nbformat": 4,
  "nbformat_minor": 0,
  "metadata": {
    "colab": {
      "name": "pandas-exercise.ipynb",
      "provenance": [],
      "collapsed_sections": []
    },
    "kernelspec": {
      "name": "python3",
      "display_name": "Python 3"
    },
    "language_info": {
      "name": "python"
    }
  },
  "cells": [
    {
      "cell_type": "markdown",
      "metadata": {
        "id": "cOQI05Pq121k"
      },
      "source": [
        "## Exercise Questions\n",
        "* importing the data from csv\n",
        "* importing the data from csv with custom header list (dob, photo_taken, full_path, gender, name, face_score, second_face_score)\n",
        "* describe the dataset\n",
        "* how to print the columns\n",
        "* Use some dataframe function like head(), info(), desc()\n",
        "* filter dataframe using list comprehension by photo taken between 1970 and 1980\n",
        "* create a dataframe where gender is not null\n",
        "* Merge, Append, Concat\n",
        " - create two dataframes named as \"first\" (id, dob, photo_taken) and \"second\" (id, gender, name)\n",
        " - create a \"third\" dataframe by mergining above two\n",
        " - create a \"fourth\" dataframe by concating first and second columnswise\n",
        " - create a \"five\" dataframe by appending the 100 records from both dataframes\n",
        "\n",
        "* Fetch filename from full_path by function or lambda function and store in new column called \"filename\". (Note, remove ' (quotes) from string)\n",
        "-  '01/nm0000001_rm124825600_1899-5-10_1968.jpg' ---> nm0000001_rm124825600_1899-5-10_1968.jpg\n",
        "\n",
        "**Use this link for data -** https://raw.githubusercontent.com/ggbsacet/machine-learning/master/datasets/pandas-exercise.csv"
      ]
    }
  ]
}